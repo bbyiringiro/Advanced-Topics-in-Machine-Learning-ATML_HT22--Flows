{
  "cells": [
    {
      "cell_type": "code",
      "execution_count": null,
      "metadata": {
        "colab": {
          "base_uri": "https://localhost:8080/"
        },
        "id": "pPf9VMt_D7l6",
        "outputId": "f1c40bbf-054b-4a50-b04c-b82da443542a"
      },
      "outputs": [
        {
          "output_type": "stream",
          "name": "stdout",
          "text": [
            "Mounted at /content/drive\n"
          ]
        }
      ],
      "source": [
        "import math\n",
        "import matplotlib.pyplot as plt\n",
        "import numpy as np\n",
        "from pylab import cm\n",
        "import torch\n",
        "import torch.nn as nn\n",
        "torch.manual_seed(2)\n",
        "\n",
        "import sys\n",
        "from google.colab import drive\n",
        "\n",
        "from torch.distributions import Normal\n",
        "from typing import List\n",
        "from tqdm import tqdm\n",
        "DEVICE = torch.device(\"cuda:0\" if torch.cuda.is_available() else \"cpu\")\n",
        "\n",
        "drive.mount('/content/drive')\n",
        "sys.path.append('drive/MyDrive/ATML_HT22')\n",
        "from models import *\n",
        "%load_ext autoreload\n",
        "%autoreload 2\n"
      ]
    },
    {
      "cell_type": "code",
      "execution_count": null,
      "metadata": {
        "id": "Ux0syy9YKrY9"
      },
      "outputs": [],
      "source": [
        "# example saving a model for continued training\n",
        "DRIVE_ROOT='/content/drive/MyDrive/'\n",
        "def save_model(epoch, model,optimizer, name):\n",
        "  path = f\"{DRIVE_ROOT}/saved_models/{name}\" \n",
        "\n",
        "  torch.save({\n",
        "    'steps': epoch,\n",
        "    'model': model.state_dict(),\n",
        "    'optimizer': optimizer.state_dict(),\n",
        "  }, path)\n",
        "\n",
        "# example loading a model for continued training\n",
        "def load_model(model,optimizer, name):\n",
        "  path = f\"{DRIVE_ROOT}/saved_models/{name}\" \n",
        "  checkpoint = torch.load(path)\n",
        "\n",
        "  model.load_state_dict(checkpoint['model'])\n",
        "  optimizer.load_state_dict(checkpoint('optimizer'))\n",
        "  \n",
        "  model.train()\n",
        "  model.controller.train()\n",
        "\n",
        "  return checkpoint['steps']"
      ]
    },
    {
      "cell_type": "code",
      "execution_count": null,
      "metadata": {
        "id": "enkiq5l4D_sx"
      },
      "outputs": [],
      "source": [
        "def omega(x):\n",
        "  return 1/(1+torch.exp(-x))\n",
        "def w1(z):\n",
        "  return torch.sin(2*torch.pi*z[:, 0]/4)\n",
        "def w2(z):\n",
        "  return 3*torch.exp(-1/2*((z[:, 0]-1)/0.6)**2)\n",
        "def w3(z):\n",
        "  return 3*(omega((z[:, 0]-1)/0.3))\n",
        "\n",
        "def energy1(z):\n",
        "  eps=1e-7\n",
        "  return 1/2*((torch.linalg.norm(z, dim=-1)-2)/0.4)**2-torch.log(torch.exp(-1/2*((z[:, 0]-2)/0.6)**2)+torch.exp(-1/2*((z[:, 0]+2)/0.6)**2)+eps)\n",
        "\n",
        "def log_density1(z):\n",
        "  return -energy1(z)\n",
        "\n",
        "def energy2(z):\n",
        "  return 1/2*(((z[:, 1]-w1(z))/0.4)**2)\n",
        "\n",
        "def log_density2(z):\n",
        "  return-energy2(z)\n",
        "\n",
        "def energy3(z):\n",
        "  eps=1e-7\n",
        "  return -torch.log(torch.exp(-1/2*((z[:, 1]-w1(z))/0.35)**2)+torch.exp(-1/2*((z[:, 1]-w1(z)+w2(z))/0.35)**2)+eps)\n",
        "\n",
        "def log_density3(z):\n",
        "  return -energy3(z)\n",
        "\n",
        "def energy4(z):  \n",
        "  eps=1e-7\n",
        "  return -torch.log(torch.exp(-1/2*((z[:, 1]-w1(z))/0.4)**2)+torch.exp(-1/2*((z[:, 1]-w1(z)+w3(z))/0.35)**2)+eps)\n",
        "\n",
        "def log_density4(z):\n",
        "  return -energy4(z)\n",
        "\n",
        "def log_density5(z):\n",
        "  return Normal(0., 1.).log_prob(z).sum(1)"
      ]
    },
    {
      "cell_type": "code",
      "execution_count": null,
      "metadata": {
        "id": "nikTfbEQNLln"
      },
      "outputs": [],
      "source": [
        "def log_N(z):\n",
        "  return Normal(0., 1.).log_prob(z).sum(1)\n",
        "def fit_posterial_approx(flowModel: FlowModule, optimizer, log_density_fn, dims:List, T:int):\n",
        "  for t in tqdm(range(T)):\n",
        "    \n",
        "    zo = torch.randn(dims).to(DEVICE)\n",
        "    zk, log_det_sum = flowModel(zo)\n",
        "\n",
        "    log_pz = log_density_fn(zk).to(DEVICE)\n",
        "    loss = (log_N(zo)-log_det_sum-log_pz).mean() # R-KL\n",
        "\n",
        "    optimizer.zero_grad()\n",
        "    loss.backward()\n",
        "    optimizer.step()\n"
      ]
    },
    {
      "cell_type": "code",
      "execution_count": null,
      "metadata": {
        "id": "10OQQsbZO9_T"
      },
      "outputs": [],
      "source": [
        ""
      ]
    },
    {
      "cell_type": "code",
      "execution_count": null,
      "metadata": {
        "id": "dmj2QoG0WL-V"
      },
      "outputs": [],
      "source": [
        "def plot_true_density(true_log_density_fn, ax, axis_min_max=np.array([[-4., 4.], [-4., 4.]])):\n",
        "  N=1000\n",
        "\n",
        "\n",
        "  x1, x2 = np.meshgrid(np.linspace(axis_min_max[0][0],axis_min_max[0][1], N), np.linspace(axis_min_max[1][0],axis_min_max[1][1], N))\n",
        "\n",
        "  tx1 = torch.from_numpy(x1).view(-1)\n",
        "  tx2 = torch.from_numpy(x2).view(-1)\n",
        "  tx = torch.stack([tx1, tx2]).T.float().to(DEVICE)\n",
        "  pz = torch.exp(true_log_density_fn(tx))\n",
        "  ax.imshow(pz.view(N,N).cpu(),extent=[axis_min_max[0][0],axis_min_max[0][1],axis_min_max[1][0],axis_min_max[1][1]], cmap=cm.jet)\n",
        "  ax.axis('off')\n",
        "  ax.set_aspect(1)  \n",
        "\n",
        "\n",
        "\n",
        "def plot_flow_density(flow_model, ax, axis_min_max=np.array([[-4., 4.], [-4., 4.]])):\n",
        "  N=1000\n",
        "  scale=5\n",
        "\n",
        "  x1, x2 = np.meshgrid(np.linspace(axis_min_max[0][0]*scale,axis_min_max[0][1]*scale, N), np.linspace(axis_min_max[1][0]*scale,axis_min_max[1][1]*scale, N))\n",
        "\n",
        "  tx1 = torch.from_numpy(x1).view(-1)\n",
        "  tx2 = torch.from_numpy(x2).view(-1)\n",
        "  zo = torch.stack([tx1, tx2]).T.float().to(DEVICE)\n",
        "  \n",
        "  zk, log_det_sum = flow_model(zo)\n",
        "\n",
        "  zk = zk.detach().data.cpu().numpy()\n",
        "  tx1, tx2 = zk[:,0], zk[:,1]\n",
        "  \n",
        "  qk = torch.exp(log_N(zo) - log_det_sum).detach().cpu().numpy()\n",
        "  \n",
        "\n",
        "  ax.pcolormesh(tx1.reshape(N,N), -1*tx2.reshape(N,N) , qk.reshape(N,N),rasterized=True, cmap =cm.jet )\n",
        "  ax.axis('off')\n",
        "  ax.set_xlim(axis_min_max[0][0],axis_min_max[0][1])\n",
        "  ax.set_ylim(axis_min_max[1][0],axis_min_max[1][1])\n",
        "  ax.set_aspect(1)  \n"
      ]
    },
    {
      "cell_type": "code",
      "execution_count": null,
      "metadata": {
        "id": "m42hnpbgKpFF"
      },
      "outputs": [],
      "source": [
        "!mkdir -p saved_models"
      ]
    },
    {
      "cell_type": "code",
      "execution_count": null,
      "metadata": {
        "id": "eMARWBTrO-_n"
      },
      "outputs": [],
      "source": [
        "def train(flow_layers_num, optim_lr, ITERATIONS,batch_size,true_log_density, flow_type='Planar', encoder_out_dim=0):\n",
        "  D=2\n",
        "    \n",
        "  model = FlowModule(D, num_layers=flow_layers_num, flow_type=flow_type, encoder_out_dim=0)\n",
        "  model.to(DEVICE)\n",
        "  optimizer = torch.optim.RMSprop(model.parameters(), lr=optim_lr, momentum=0.9)\n",
        "  fit_posterial_approx(model, optimizer,true_log_density,[batch_size, D], ITERATIONS)\n",
        "  return model, optimizer"
      ]
    },
    {
      "cell_type": "code",
      "execution_count": null,
      "metadata": {
        "id": "WoYc0rVyKQdF"
      },
      "outputs": [],
      "source": [
        "\n",
        "\n",
        "ITERATIONS=500000\n",
        "batch_size=100*100\n",
        "optim_lr = 1e-5\n",
        "flow_lenths=[2, 8, 32]\n",
        "log_densities =[log_density1, log_density2, log_density3, log_density4]\n",
        "\n",
        "col=4\n",
        "row =4\n",
        "\n",
        "fig, axes =plt.subplots(4, 4, figsize=(8, 8))\n",
        "#for square graphs\n",
        "\n",
        "for (i, ax) in enumerate(axes.flatten()):\n",
        "\n",
        "  true_log_density = log_densities[i//row]\n",
        "\n",
        "  if(i%col==0):\n",
        "    plot_true_density(true_log_density, ax)\n",
        "    if i==0:\n",
        "      ax.set_title(f'exp[-U(z]')\n",
        "  else:\n",
        "    flow_layers_num = flow_lenths[i%col-1]\n",
        "\n",
        "    try:\n",
        "\n",
        "      flow_model, optimiser = train(flow_layers_num, optim_lr, ITERATIONS,batch_size,true_log_density, flow_type='Planar', encoder_out_dim=0)\n",
        "      save_model(ITERATIONS, flow_model,optimiser, f'v2_U={i}-K={flow_layers_num}-lr={optim_lr}-iternations={ITERATIONS}')\n",
        "      # plot_flow_density(flow_model, ax)\n",
        "      if(i<col):\n",
        "        ax.set_title(f'K = {flow_layers_num}')\n",
        "    except Exception as err:\n",
        "      print(f' Error on K ={flow_layers_num}')\n",
        "      print(err)\n",
        "\n",
        "\n",
        "# plt.savefig('/content/drive/MyDrive/ATML_HT22/figure3.pdf') #/content/drive/MyDrive/ATML_HT22/figure3.pdf\n",
        "plt.show()"
      ]
    },
    {
      "cell_type": "code",
      "execution_count": null,
      "metadata": {
        "id": "5xY-NA8jdwO4"
      },
      "outputs": [],
      "source": [
        ""
      ]
    },
    {
      "cell_type": "code",
      "execution_count": null,
      "metadata": {
        "id": "hzNKtT17f3ZD"
      },
      "outputs": [],
      "source": [
        ""
      ]
    },
    {
      "cell_type": "code",
      "execution_count": null,
      "metadata": {
        "id": "02z7k5npQKI1"
      },
      "outputs": [],
      "source": [
        "#Figure 1"
      ]
    },
    {
      "cell_type": "code",
      "execution_count": null,
      "metadata": {
        "id": "P_PeRxDpTqaZ"
      },
      "outputs": [],
      "source": [
        ""
      ]
    },
    {
      "cell_type": "code",
      "execution_count": null,
      "metadata": {
        "id": "80vrb7IATzmL"
      },
      "outputs": [],
      "source": [
        "# Normal Distribtuion\n",
        "\n",
        "\n",
        "N = 80\n",
        "\n",
        "\n",
        "\n",
        "fig, axes =plt.subplots(1,4, figsize=(8,2))\n",
        "fig.tight_layout()\n",
        "\n",
        "\n",
        "\n",
        "axis_min_max=np.array([[-4., 4.], [-4., 4.]])\n",
        "\n",
        "x1, x2 = np.meshgrid(np.linspace(axis_min_max[0][0],axis_min_max[0][1], N), np.linspace(axis_min_max[1][0],axis_min_max[1][1], N))\n",
        "\n",
        "tx1 = torch.from_numpy(x1).view(-1)\n",
        "tx2 = torch.from_numpy(x2).view(-1)\n",
        "tx = torch.stack([tx1, tx2]).T\n",
        "\n",
        "density = Normal(0., 1.).log_prob(tx).sum(1).exp()\n",
        "\n",
        "axes[0].imshow(density.view(N, N),extent=[axis_min_max[0][0],axis_min_max[0][1],axis_min_max[1][0],axis_min_max[1][1]], cmap=cm.jet.reversed() )\n",
        "# axes[0].axis('off')\n",
        "# axes[0].set_xlim(axis_min_max[0][0],axis_min_max[0][1])\n",
        "# axes[0].set_ylim(axis_min_max[1][0],axis_min_max[1][1])\n",
        "\n",
        "\n",
        "\n",
        "\n",
        "scale = 4\n",
        "new_N = N*scale\n",
        "new_axis_min_max=np.array([[-4., 4.], [-4., 4.]])*scale\n",
        "\n",
        "\n",
        "flow_type='Planar'\n",
        "latent_dim =2\n",
        "\n",
        "\n",
        "\n",
        "\n",
        "\n",
        "for i, K in enumerate([1, 2, 10]):\n",
        "  \n",
        "  \n",
        "  x1_, x2_ = np.meshgrid(np.linspace(new_axis_min_max[0][0],new_axis_min_max[0][1], new_N), np.linspace(new_axis_min_max[1][0],new_axis_min_max[1][1], new_N))\n",
        "\n",
        "  tx1_ = torch.from_numpy(x1_).view(-1)\n",
        "  tx2_ = torch.from_numpy(x2_).view(-1)\n",
        "  tx_ = torch.stack([tx1_, tx2_]).T.type(torch.FloatTensor).to(DEVICE)\n",
        "\n",
        "\n",
        "  model = FlowModule(latent_dim, num_layers=K, flow_type=flow_type)\n",
        "  model.to(DEVICE)\n",
        "\n",
        "  new_tx, log_det_sum = model(tx_)\n",
        "\n",
        "  new_density = torch.exp(log_N(new_tx)-log_det_sum.view(-1))\n",
        "\n",
        "  j=i+1\n",
        "  axes[j].pcolormesh(new_tx[:,0].detach().cpu().numpy().reshape(new_N,new_N), -1*new_tx[:,1].detach().cpu().numpy().reshape(new_N,new_N), new_density.detach().cpu().numpy().reshape(new_N,new_N), rasterized=True, cmap =cm.jet.reversed() )\n",
        "  axes[j].set_xlim(axis_min_max[0][0],axis_min_max[0][1])\n",
        "  axes[j].set_ylim(axis_min_max[1][0],axis_min_max[1][1])\n",
        "  # axes[j].axis('off')\n",
        "plt.show()"
      ]
    },
    {
      "cell_type": "code",
      "execution_count": null,
      "metadata": {
        "id": "Da9aO2g67rLK"
      },
      "outputs": [],
      "source": [
        ""
      ]
    },
    {
      "cell_type": "code",
      "execution_count": null,
      "metadata": {
        "id": "WaODUseeeimr"
      },
      "outputs": [],
      "source": [
        "log_N(new_tx).shape"
      ]
    },
    {
      "cell_type": "code",
      "execution_count": null,
      "metadata": {
        "id": "NWI0-eRvYWHT"
      },
      "outputs": [],
      "source": [
        "\n",
        "# Uniform\n",
        "\n",
        "N = 100\n",
        "\n",
        "\n",
        "\n",
        "fig, axes =plt.subplots(1,4, figsize=(8,2))\n",
        "fig.tight_layout()\n",
        "\n",
        "\n",
        "axis_min_max=np.array([[-4., 4.], [-4., 4.]])\n",
        "\n",
        "x1, x2 = np.meshgrid(np.linspace(axis_min_max[0][0],axis_min_max[0][1], N), np.linspace(axis_min_max[1][0],axis_min_max[1][1], N))\n",
        "\n",
        "tx1 = torch.from_numpy(x1).view(-1)\n",
        "tx2 = torch.from_numpy(x2).view(-1)\n",
        "tx = torch.stack([tx1, tx2]).T\n",
        "\n",
        "density = density =  torch.ones_like(tx.sum(1))/tx.shape[0]\n",
        "\n",
        "axes[0].imshow(density.view(N, N),extent=[axis_min_max[0][0],axis_min_max[0][1],axis_min_max[1][0],axis_min_max[1][1]], cmap=cm.jet.reversed())\n",
        "# axes[0].axis('off')\n",
        "\n",
        "\n",
        "\n",
        "\n",
        "scale = 4\n",
        "new_N = N*scale*2\n",
        "new_axis_min_max=np.array([[-4., 4.], [-4., 4.]])*scale\n",
        "\n",
        "flow_type='Planar'\n",
        "latent_dim =2\n",
        "\n",
        "\n",
        "for i, K in enumerate([1, 2, 10]):\n",
        "  \n",
        "  \n",
        "  x1_, x2_ = np.meshgrid(np.linspace(new_axis_min_max[0][0],new_axis_min_max[0][1], new_N), np.linspace(new_axis_min_max[1][0],new_axis_min_max[1][1], new_N))\n",
        "\n",
        "  tx1_ = torch.from_numpy(x1_).view(-1)\n",
        "  tx2_ = torch.from_numpy(x2_).view(-1)\n",
        "  tx_ = torch.stack([tx1_, tx2_]).T.type(torch.FloatTensor).to(DEVICE)\n",
        "\n",
        "\n",
        "  model = FlowModule(latent_dim, num_layers=K, flow_type=flow_type)\n",
        "  model.to(DEVICE)\n",
        "\n",
        "  new_tx, log_det_sum = model(tx_)\n",
        "  \n",
        "\n",
        "\n",
        "  new_density = torch.exp(torch.log(torch.ones_like(new_tx.sum(1))/new_tx.shape[0])-log_det_sum.view(-1))\n",
        "\n",
        "  j=i+1\n",
        "  axes[j].pcolormesh(new_tx[:,0].detach().cpu().numpy().reshape(new_N,new_N),-1*new_tx[:,1].detach().cpu().numpy().reshape(new_N,new_N), new_density.detach().cpu().numpy().reshape(new_N,new_N), rasterized=True, cmap =cm.jet.reversed())\n",
        "  axes[j].set_xlim(axis_min_max[0][0],axis_min_max[0][1])\n",
        "  axes[j].set_ylim(axis_min_max[1][0],axis_min_max[1][1])\n",
        "  axes[j].axis('off')\n",
        "plt.show()"
      ]
    },
    {
      "cell_type": "code",
      "execution_count": null,
      "metadata": {
        "id": "60fByev0YWKM"
      },
      "outputs": [],
      "source": [
        ""
      ]
    }
  ],
  "metadata": {
    "accelerator": "GPU",
    "colab": {
      "collapsed_sections": [],
      "name": "Copy of Figure 3 & 1.ipynb",
      "provenance": []
    },
    "kernelspec": {
      "display_name": "Python 3",
      "name": "python3"
    },
    "language_info": {
      "name": "python"
    }
  },
  "nbformat": 4,
  "nbformat_minor": 0
}