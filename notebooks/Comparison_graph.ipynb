{
  "nbformat": 4,
  "nbformat_minor": 0,
  "metadata": {
    "colab": {
      "name": "Figure 3.ipynb",
      "provenance": [],
      "background_execution": "on"
    },
    "kernelspec": {
      "name": "python3",
      "display_name": "Python 3"
    },
    "language_info": {
      "name": "python"
    },
    "accelerator": "GPU"
  },
  "cells": [
    {
      "cell_type": "code",
      "execution_count": 1,
      "metadata": {
        "id": "wKEgOjjgResb",
        "colab": {
          "base_uri": "https://localhost:8080/"
        },
        "outputId": "89eff1ac-ac19-4616-f49f-d1efb4f63c29"
      },
      "outputs": [
        {
          "output_type": "stream",
          "name": "stdout",
          "text": [
            "Drive already mounted at /content/drive; to attempt to forcibly remount, call drive.mount(\"/content/drive\", force_remount=True).\n"
          ]
        }
      ],
      "source": [
        "import math\n",
        "import matplotlib.pyplot as plt\n",
        "import numpy as np\n",
        "from pylab import cm\n",
        "import torch\n",
        "import torch.nn as nn\n",
        "torch.manual_seed(2)\n",
        "from torch.nn import functional as F\n",
        "import sys\n",
        "from google.colab import drive\n",
        "\n",
        "from torch.distributions import Normal\n",
        "from typing import List\n",
        "from tqdm import tqdm\n",
        "DEVICE = torch.device(\"cuda:0\" if torch.cuda.is_available() else \"cpu\")\n",
        "\n",
        "drive.mount('/content/drive')\n",
        "sys.path.append('drive/MyDrive/ATML_HT22')\n",
        "from models import *\n",
        "import seaborn as sns\n",
        "sns.set()\n",
        "%load_ext autoreload\n",
        "%autoreload 2"
      ]
    },
    {
      "cell_type": "code",
      "source": [
        "DRIVE_ROOT='/content/drive/MyDrive'\n",
        "# example loading a model for continued training\n",
        "def load_model(model, name):\n",
        "  path = f\"{DRIVE_ROOT}/saved_models/{name}\" \n",
        "  checkpoint = torch.load(path, map_location=DEVICE)\n",
        "  \n",
        "\n",
        "  model.load_state_dict(checkpoint['model'])\n",
        "  # optimizer.load_state_dict(checkpoint('optimizer'))\n",
        "  \n",
        "  model.eval()\n",
        "\n",
        "  return model"
      ],
      "metadata": {
        "id": "AUCwtqbgRmuq"
      },
      "execution_count": 2,
      "outputs": []
    },
    {
      "cell_type": "code",
      "source": [
        "from utils import load_model\n",
        "\n",
        "\n",
        "from train import test\n",
        "from eval import estimate_marginal_likelihood\n",
        "from train import train_and_test\n",
        "from eval import BinaryMNIST\n",
        "\n",
        "%load_ext autoreload\n",
        "%autoreload 2\n",
        "\n",
        "\n"
      ],
      "metadata": {
        "id": "KEVOLty61UrE",
        "colab": {
          "base_uri": "https://localhost:8080/"
        },
        "outputId": "394efbec-80e9-4a30-97c2-d63d984f534c"
      },
      "execution_count": 3,
      "outputs": [
        {
          "output_type": "stream",
          "name": "stdout",
          "text": [
            "The autoreload extension is already loaded. To reload it, use:\n",
            "  %reload_ext autoreload\n"
          ]
        }
      ]
    },
    {
      "cell_type": "code",
      "source": [
        "\n",
        "model, optimizer, steps, train_losses, settings = load_model(\"k0_bMNIST\", DEVICE) # just to get the settings\n",
        "batch_size, optim_lr, rms_prop_momentum, num_training_steps,\\\n",
        "  imp_samples, D, encoder_hidden_dims, decoder_hidden_dims, latent_size,\\\n",
        "  maxout_window_size, non_linearity, optim_type, flow_type, num_flow_blocks, binary = settings\n",
        "\n",
        "train_loader, test_loader = BinaryMNIST(batch_size)"
      ],
      "metadata": {
        "id": "OHj8X8G8I1Qk"
      },
      "execution_count": 4,
      "outputs": []
    },
    {
      "cell_type": "code",
      "source": [
        "N=200\n",
        "Planar_nnl=[]"
      ],
      "metadata": {
        "id": "8LCScrFr2kr-"
      },
      "execution_count": 5,
      "outputs": []
    },
    {
      "cell_type": "code",
      "source": [
        "\n",
        "for k, name  in enumerate(['k0_bMNIST', 'k10_bMNIST_v2','k20_bMNIST_v2','k40_bMNIST_v2',]):\n",
        "  # if k<3: continue\n",
        "\n",
        "  model, optimizer, steps, train_losses, settings = load_model(name, DEVICE)\n",
        "  \n",
        "\n",
        "\n",
        "  marg_log_lik = estimate_marginal_likelihood(N, test_loader, binary, model, DEVICE)\n",
        "  Planar_nnl.append( marg_log_lik)\n",
        "  print(f\"Marginal log likelihood: {marg_log_lik:.2f} for {name}\")\n",
        "\n",
        "  model, optimizer, train_losses=None, None, None\n",
        "  torch.cuda.empty_cache()\n",
        "\n",
        "  "
      ],
      "metadata": {
        "id": "p_JI_er92zlV",
        "colab": {
          "base_uri": "https://localhost:8080/"
        },
        "outputId": "5067cd7d-2e06-47b5-ffce-95c3d5ec273b"
      },
      "execution_count": 6,
      "outputs": [
        {
          "output_type": "stream",
          "name": "stdout",
          "text": [
            "Marginal log likelihood: 92.39 for k0_bMNIST\n",
            "Marginal log likelihood: 89.95 for k10_bMNIST_v2\n",
            "Marginal log likelihood: 89.32 for k20_bMNIST_v2\n",
            "Marginal log likelihood: 88.92 for k40_bMNIST_v2\n"
          ]
        }
      ]
    },
    {
      "cell_type": "code",
      "source": [
        "Planar_nnl.append(88.74) # calculated with the CPU since k80 likelihood calculation wasn't fitting in the GPU memory "
      ],
      "metadata": {
        "id": "OBxeSpOXbm7s"
      },
      "execution_count": 7,
      "outputs": []
    },
    {
      "cell_type": "code",
      "source": [
        "Sylv_nnl = []"
      ],
      "metadata": {
        "id": "DCrkllKY8e0q"
      },
      "execution_count": 8,
      "outputs": []
    },
    {
      "cell_type": "code",
      "source": [
        "for k, name  in enumerate(['k2_bMNIST_TriangularSylvester','k8_bMNIST_TriangularSylvester','k16_bMNIST_TriangularSylvester','k40_bMNIST_TriangularSylvester',]):\n",
        "  model, optimizer, steps, train_losses, settings = load_model(name, DEVICE)\n",
        "  \n",
        "  marg_log_lik = estimate_marginal_likelihood(N, test_loader, binary, model, DEVICE)\n",
        "  Sylv_nnl.append(marg_log_lik)\n",
        "  print(f\"Marginal log likelihood: {marg_log_lik:.2f} for {name}\")\n",
        "\n",
        "  model, optimizer, train_losses=None, None, None\n",
        "  torch.cuda.empty_cache()"
      ],
      "metadata": {
        "id": "0ABmtMFX5brh",
        "colab": {
          "base_uri": "https://localhost:8080/"
        },
        "outputId": "9fc87de9-ccf6-44ed-f530-57fb87b5774e"
      },
      "execution_count": 9,
      "outputs": [
        {
          "output_type": "stream",
          "name": "stderr",
          "text": [
            "/usr/local/lib/python3.7/dist-packages/torch/_tensor.py:493: UserWarning: non-inplace resize is deprecated\n",
            "  warnings.warn(\"non-inplace resize is deprecated\")\n"
          ]
        },
        {
          "output_type": "stream",
          "name": "stdout",
          "text": [
            "Marginal log likelihood: 88.85 for k2_bMNIST_TriangularSylvester\n",
            "Marginal log likelihood: 88.30 for k8_bMNIST_TriangularSylvester\n",
            "Marginal log likelihood: 88.17 for k16_bMNIST_TriangularSylvester\n",
            "Marginal log likelihood: 88.04 for k40_bMNIST_TriangularSylvester\n"
          ]
        }
      ]
    },
    {
      "cell_type": "code",
      "source": [
        ""
      ],
      "metadata": {
        "id": "PUrGg8r86mIn"
      },
      "execution_count": 9,
      "outputs": []
    },
    {
      "cell_type": "code",
      "source": [
        ""
      ],
      "metadata": {
        "id": "-b6mx_5Iblej"
      },
      "execution_count": 9,
      "outputs": []
    },
    {
      "cell_type": "code",
      "source": [
        "def annealed_ELBO(x, recon, log_p_zo, log_p_zk, log_det_sum, binary=True, beta_t=1.):\n",
        "\n",
        "    if binary:\n",
        "        CE = F.binary_cross_entropy(recon, x, reduction='sum')\n",
        "\n",
        "\n",
        "    KL = torch.sum(log_p_zo, -1) - torch.sum(log_p_zk, -1)\n",
        "\n",
        "    F_bt = CE+KL\n",
        "                                             \n",
        "    # happens if k=0\n",
        "    if type(log_det_sum) != float:\n",
        "       F_bt -= torch.sum(log_det_sum.view(-1))\n",
        "    return KL, F_bt\n",
        "\n",
        "\n",
        "def test(model, testing_loader, binary, device, print_progress=True, N=1):\n",
        "\n",
        "    model.eval()\n",
        "    total_loss = 0.\n",
        "    totoal_KL = 0.0\n",
        "    for _ in range(N):\n",
        "      with torch.no_grad():\n",
        "          for i, (x, _) in enumerate(testing_loader):\n",
        "              x = x.flatten(1).to(device)\n",
        "              recon, logp_zo, logp_zk, log_det_sum = model(x)\n",
        "              KL, loss = annealed_ELBO(x, recon, logp_zo, logp_zk, log_det_sum, binary )\n",
        "              total_loss += loss.detach().item()\n",
        "              totoal_KL +=KL.detach().item()\n",
        "\n",
        "    total_loss /= len(testing_loader.dataset)*N\n",
        "    totoal_KL /= len(testing_loader.dataset)*N\n",
        "\n",
        "\n",
        "\n",
        "    return total_loss, totoal_KL\n",
        "\n",
        "\n",
        "   "
      ],
      "metadata": {
        "id": "8xWpZOSb75e9"
      },
      "execution_count": 10,
      "outputs": []
    },
    {
      "cell_type": "code",
      "source": [
        ""
      ],
      "metadata": {
        "id": "GWJu-azK99Zd"
      },
      "execution_count": 10,
      "outputs": []
    },
    {
      "cell_type": "code",
      "source": [
        ""
      ],
      "metadata": {
        "id": "8_Ig524XBsHP"
      },
      "execution_count": 10,
      "outputs": []
    },
    {
      "cell_type": "code",
      "source": [
        "Planar_KL = []\n",
        "Planar_loss = []\n",
        "for k, name  in enumerate(['k0_bMNIST', 'k10_bMNIST_v2','k20_bMNIST_v2','k40_bMNIST_v2', 'k80_bMNIST_v2']): \n",
        "  model, optimizer, steps, train_losses, settings = load_model(name, DEVICE)\n",
        "\n",
        "  train_loader, test_loader = BinaryMNIST(batch_size)\n",
        "\n",
        "  F_bt, KL=test(model, test_loader, True, DEVICE, N=N)\n",
        "  Planar_KL.append(KL)\n",
        "  Planar_loss.append(F_bt)\n",
        "\n",
        "  \n",
        "  print(f\"model name ={name}==> Fft= {F_bt:.2f}, KL ={KL:.2f}\")\n",
        "\n",
        "  model, optimizer, train_losses=None, None, None\n",
        "  torch.cuda.empty_cache()\n"
      ],
      "metadata": {
        "id": "zpPI6DeP-NLc",
        "colab": {
          "base_uri": "https://localhost:8080/"
        },
        "outputId": "b17bbe12-9762-450a-f76c-279371a5d068"
      },
      "execution_count": 11,
      "outputs": [
        {
          "output_type": "stream",
          "name": "stdout",
          "text": [
            "model name =k0_bMNIST==> Fft= 96.99, KL =29.18\n",
            "model name =k10_bMNIST_v2==> Fft= 93.97, KL =28.07\n",
            "model name =k20_bMNIST_v2==> Fft= 93.02, KL =27.86\n",
            "model name =k40_bMNIST_v2==> Fft= 92.47, KL =26.68\n",
            "model name =k80_bMNIST_v2==> Fft= 92.21, KL =24.21\n"
          ]
        }
      ]
    },
    {
      "cell_type": "code",
      "source": [
        ""
      ],
      "metadata": {
        "id": "Fz14-ozUCGo2"
      },
      "execution_count": 11,
      "outputs": []
    },
    {
      "cell_type": "code",
      "source": [
        "Sylv_KL = []\n",
        "Sylv_loss = []\n",
        "for k, name  in enumerate(['k2_bMNIST_TriangularSylvester','k8_bMNIST_TriangularSylvester','k16_bMNIST_TriangularSylvester','k40_bMNIST_TriangularSylvester',]):\n",
        "\n",
        "\n",
        "  model, optimizer, steps, train_losses, settings = load_model(name, DEVICE)\n",
        "\n",
        "  F_bt, KL=test(model, test_loader, True, DEVICE,  N=N)\n",
        "  Sylv_KL.append(KL)\n",
        "  Sylv_loss.append(F_bt)\n",
        "  print(f\"model name ={name}==> Fft= {F_bt:.2f}, KL ={KL:.2f}\")\n",
        "\n",
        "\n",
        "  model, optimizer, train_losses=None, None, None\n",
        "  torch.cuda.empty_cache()"
      ],
      "metadata": {
        "id": "i722NdjGAnmr",
        "colab": {
          "base_uri": "https://localhost:8080/"
        },
        "outputId": "2726b345-27b2-49e6-d5d9-bd82c3638f43"
      },
      "execution_count": 12,
      "outputs": [
        {
          "output_type": "stream",
          "name": "stderr",
          "text": [
            "/usr/local/lib/python3.7/dist-packages/torch/_tensor.py:493: UserWarning: non-inplace resize is deprecated\n",
            "  warnings.warn(\"non-inplace resize is deprecated\")\n"
          ]
        },
        {
          "output_type": "stream",
          "name": "stdout",
          "text": [
            "model name =k2_bMNIST_TriangularSylvester==> Fft= 92.32, KL =36.36\n",
            "model name =k8_bMNIST_TriangularSylvester==> Fft= 91.43, KL =30.58\n",
            "model name =k16_bMNIST_TriangularSylvester==> Fft= 91.21, KL =24.56\n",
            "model name =k40_bMNIST_TriangularSylvester==> Fft= 91.20, KL =18.55\n"
          ]
        }
      ]
    },
    {
      "cell_type": "code",
      "source": [
        "planar_x = np.array([0, 10, 20, 40, 80])\n",
        "sylv_x= np.array([2, 8, 16, 40])\n",
        "yerr = np.ones(len(sylv_x))*0.1\n",
        "yerr2 = np.ones(len(planar_x))*0.1"
      ],
      "metadata": {
        "id": "nAUHWhKjCRIc"
      },
      "execution_count": 13,
      "outputs": []
    },
    {
      "cell_type": "code",
      "source": [
        "def plot_performance(ax, x, y, err, label, y_axis_label):\n",
        "  ax.errorbar(x,np.array(y),yerr=err, label=f\"{label}\", elinewidth=4)\n",
        "  ax.legend()\n",
        "  ax.set_xlabel(\"Flow Length\")\n",
        "  ax.set_ylabel(f\"{y_axis_label}\")\n"
      ],
      "metadata": {
        "id": "3edbYmatNktT"
      },
      "execution_count": 14,
      "outputs": []
    },
    {
      "cell_type": "code",
      "source": [
        "fig, axes =plt.subplots(1, 3, figsize=(18,6))\n",
        "\n",
        "i =0\n",
        "\n",
        "plot_performance(axes[i], planar_x, Planar_KL, yerr2, \"Planar\", \"D-KL\")\n",
        "plot_performance(axes[i], sylv_x, Sylv_KL, yerr, \"Sylvester\", \"D-KL\")\n",
        "\n",
        "yerr /=4\n",
        "yerr2 /=4\n",
        "i+=1\n",
        "\n",
        "plot_performance(axes[i], planar_x, Planar_loss, yerr2, \"Planar\", \"Varitional Bound F(x)\")\n",
        "plot_performance(axes[i], sylv_x, Sylv_loss, yerr, \"Sylvester\", \"Varitional Bound F(x)\")\n",
        "\n",
        "i+=1\n",
        "plot_performance(axes[i], planar_x, Planar_nnl, yerr2, \"Planar\", \"-lnp(x)\")\n",
        "plot_performance(axes[i], sylv_x, Sylv_nnl, yerr, \"Sylvester\", \"-lnp(x)\")\n",
        "\n",
        "\n",
        "\n",
        "\n",
        "fig.tight_layout()\n",
        "\n",
        "# plt.show()\n",
        "fig.savefig('comparison_figure.pdf') "
      ],
      "metadata": {
        "id": "nqxi4xU0D8Jr",
        "colab": {
          "base_uri": "https://localhost:8080/",
          "height": 441
        },
        "outputId": "5b9a3c07-8194-40ee-ba3c-47966eac5073"
      },
      "execution_count": 15,
      "outputs": [
        {
          "output_type": "display_data",
          "data": {
            "text/plain": [
              "<Figure size 1296x432 with 3 Axes>"
            ],
            "image/png": "[encoded data removed]"
          },
          "metadata": {
            "needs_background": "light"
          }
        }
      ]
    },
    {
      "cell_type": "code",
      "source": [
        ""
      ],
      "metadata": {
        "id": "fGPIpx4CRVDA"
      },
      "execution_count": 15,
      "outputs": []
    }
  ]
}