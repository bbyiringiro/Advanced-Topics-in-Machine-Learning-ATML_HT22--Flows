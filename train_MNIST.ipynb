{
  "cells": [
    {
      "cell_type": "code",
      "execution_count": null,
      "metadata": {
        "id": "o-BwYcHQu4Ni"
      },
      "outputs": [],
      "source": [
        "import matplotlib.pyplot as plt\n",
        "import numpy as np\n",
        "\n",
        "import torch\n",
        "import torch.nn as nn\n",
        "import torch.optim as optim\n",
        "from torch.utils.data import random_split,Dataset\n",
        "from torch.nn import functional as F\n",
        "import torchvision\n",
        "from torchvision import datasets,transforms\n",
        "import torchvision.transforms as transforms\n",
        "\n",
        "from torch.distributions.normal import Normal\n",
        "\n",
        "import os\n",
        "import math\n",
        "from tqdm import tqdm\n",
        "\n",
        "from torchvision import datasets, transforms\n",
        "from torch.utils.data import DataLoader\n",
        "\n",
        "from typing import List\n",
        "\n",
        "DEVICE = torch.device(\"cuda:0\" if torch.cuda.is_available() else \"cpu\")"
      ]
    },
    {
      "cell_type": "code",
      "execution_count": null,
      "metadata": {
        "colab": {
          "base_uri": "https://localhost:8080/"
        },
        "id": "-LWj9Quuu9II",
        "outputId": "60c45e0a-1d83-4a55-f2a4-c285581d1db2"
      },
      "outputs": [
        {
          "output_type": "stream",
          "name": "stdout",
          "text": [
            "Mounted at /content/drive\n"
          ]
        }
      ],
      "source": [
        "#Script allow collab to get access to our shared Drive \n",
        "#If you are not he owner of the drive make sure you add ATML_HT22 shortcut to your drive or find other workaround \n",
        "import sys\n",
        "from google.colab import drive\n",
        "drive.mount('/content/drive')\n",
        "sys.path.append('drive/MyDrive/ATML_HT22')\n",
        "\n",
        "from train import train_and_test\n",
        "from eval import BinaryMNIST\n",
        "\n",
        "%load_ext autoreload\n",
        "%autoreload 2"
      ]
    },
    {
      "cell_type": "markdown",
      "metadata": {
        "id": "oTJ_kObp8Bk4"
      },
      "source": [
        "****"
      ]
    },
    {
      "cell_type": "code",
      "execution_count": null,
      "metadata": {
        "id": "FehBGqVnwu8B"
      },
      "outputs": [],
      "source": [
        "# Parameters\n",
        "batch_size          = 100\n",
        "\n",
        "optim_lr            = 1e-5\n",
        "rms_prop_momentum   = 0.9\n",
        "\n",
        "num_training_steps  = 500000 # 500,000\n",
        "imp_samples         = 200\n",
        "\n",
        "# Model\n",
        "D = 784\n",
        "encoder_hidden_dims = [400]\n",
        "decoder_hidden_dims = [400]\n",
        "latent_size         = 40\n",
        "maxout_window_size  = 4\n",
        "non_linearity       = \"MaxOut\" # \"MaxOut\" or \"ReLU\"\n",
        "optim_type          = \"RMSProp\" # \"RMSProp\" or \"Adam\"\n",
        "\n",
        "# Build Flows\n",
        "flow_type           = 'Planar'\n",
        "num_flow_blocks     = 40\n",
        "\n",
        "# whether the dataset is binary\n",
        "binary = True\n",
        "\n",
        "settings = (batch_size, optim_lr, rms_prop_momentum, num_training_steps,\\\n",
        "            imp_samples, D, encoder_hidden_dims, decoder_hidden_dims, latent_size,\\\n",
        "            maxout_window_size, non_linearity, optim_type, flow_type, num_flow_blocks, binary)"
      ]
    },
    {
      "cell_type": "markdown",
      "metadata": {
        "id": "WqaDsfBS-9S3"
      },
      "source": [
        "____"
      ]
    },
    {
      "cell_type": "code",
      "execution_count": null,
      "metadata": {
        "id": "_SOaT2Zh-82N"
      },
      "outputs": [],
      "source": [
        "train_loader, test_loader = BinaryMNIST(batch_size)"
      ]
    },
    {
      "cell_type": "code",
      "execution_count": null,
      "metadata": {
        "id": "lDk89Ak6TqBk"
      },
      "outputs": [],
      "source": [
        "marg_lik, test_loss, train_losses, model = train_and_test(\"k40_bMNIST\", train_loader, test_loader, settings, DEVICE)"
      ]
    },
    {
      "cell_type": "markdown",
      "metadata": {
        "id": "Sw9PUQuHh3jy"
      },
      "source": [
        "****"
      ]
    },
    {
      "cell_type": "code",
      "execution_count": null,
      "metadata": {
        "id": "KHGT0NCn7oiO"
      },
      "outputs": [],
      "source": [
        "from utils import load_model\n",
        "\n",
        "#model, optimizer, steps, train_losses, settings = load_model(\"k10_bMNIST\", DEVICE)\n",
        "#batch_size, optim_lr, rms_prop_momentum, num_training_steps,\\\n",
        "#imp_samples, D, encoder_hidden_dims, decoder_hidden_dims, latent_size,\\\n",
        "#maxout_window_size, non_linearity, optim_type, flow_type, num_flow_blocks, binary = settings\n",
        "\n",
        "from train import test\n",
        "from eval import estimate_marginal_likelihood\n",
        "\n",
        "test_loss = test(model, test_loader, binary, DEVICE)\n",
        "print(f\"Final test loss: {test_loss:.2f}\")\n",
        "marg_log_lik = estimate_marginal_likelihood(imp_samples, test_loader, binary, model, DEVICE)\n",
        "print(f\"Marginal log likelihood: {marg_log_lik:.2f}\")"
      ]
    },
    {
      "cell_type": "code",
      "execution_count": null,
      "metadata": {
        "id": "R0uXcsLUgemc"
      },
      "outputs": [],
      "source": [
        ""
      ]
    }
  ],
  "metadata": {
    "accelerator": "GPU",
    "colab": {
      "collapsed_sections": [],
      "name": "train_MNIST.ipynb",
      "provenance": []
    },
    "kernelspec": {
      "display_name": "Python 3",
      "name": "python3"
    },
    "language_info": {
      "name": "python"
    }
  },
  "nbformat": 4,
  "nbformat_minor": 0
}