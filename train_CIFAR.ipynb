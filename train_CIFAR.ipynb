{
  "nbformat": 4,
  "nbformat_minor": 0,
  "metadata": {
    "colab": {
      "name": "train_CIFAR.ipynb",
      "provenance": [],
      "collapsed_sections": []
    },
    "kernelspec": {
      "name": "python3",
      "display_name": "Python 3"
    },
    "language_info": {
      "name": "python"
    },
    "accelerator": "GPU"
  },
  "cells": [
    {
      "cell_type": "code",
      "execution_count": null,
      "metadata": {
        "id": "o-BwYcHQu4Ni"
      },
      "outputs": [],
      "source": [
        "import matplotlib.pyplot as plt\n",
        "import numpy as np\n",
        "\n",
        "import torch\n",
        "import torch.nn as nn\n",
        "import torch.optim as optim\n",
        "from torch.utils.data import random_split,Dataset\n",
        "from torch.nn import functional as F\n",
        "import torchvision\n",
        "from torchvision import datasets,transforms\n",
        "import torchvision.transforms as transforms\n",
        "\n",
        "from torch.distributions.normal import Normal\n",
        "\n",
        "import os\n",
        "import math\n",
        "from tqdm import tqdm\n",
        "\n",
        "from torchvision import datasets, transforms\n",
        "from torch.utils.data import DataLoader\n",
        "\n",
        "from typing import List\n",
        "\n",
        "DEVICE = torch.device(\"cuda:0\" if torch.cuda.is_available() else \"cpu\")"
      ]
    },
    {
      "cell_type": "code",
      "source": [
        "#Script allow collab to get access to our shared Drive \n",
        "#If you are not he owner of the drive make sure you add ATML_HT22 shortcut to your drive or find other workaround \n",
        "import sys\n",
        "from google.colab import drive\n",
        "drive.mount('/content/drive')\n",
        "sys.path.append('drive/MyDrive/ATML_HT22')\n",
        "\n",
        "from train import train_and_test\n",
        "from eval import CIFAR10\n",
        "\n",
        "%load_ext autoreload\n",
        "%autoreload 2"
      ],
      "metadata": {
        "id": "-LWj9Quuu9II"
      },
      "execution_count": null,
      "outputs": []
    },
    {
      "cell_type": "markdown",
      "source": [
        "****"
      ],
      "metadata": {
        "id": "oTJ_kObp8Bk4"
      }
    },
    {
      "cell_type": "code",
      "source": [
        "# Parameters\n",
        "batch_size          = 100\n",
        "\n",
        "optim_lr            = 1e-5\n",
        "rms_prop_momentum   = 0.9\n",
        "\n",
        "num_training_steps  = 500000\n",
        "imp_samples         = 200\n",
        "\n",
        "# Model\n",
        "D = 3*8*8 #784\n",
        "encoder_hidden_dims = [400]\n",
        "decoder_hidden_dims = [400]\n",
        "latent_size         = 30\n",
        "maxout_window_size  = 4\n",
        "non_linearity       = \"MaxOut\" # \"MaxOut\" or \"ReLU\"\n",
        "optim_type          = \"RMSProp\" # \"RMSProp\" or \"Adam\"\n",
        "\n",
        "# Build Flows\n",
        "flow_type           = 'Planar'\n",
        "num_flow_blocks     = 0\n",
        "\n",
        "# whether the dataset is binary\n",
        "binary = False\n",
        "\n",
        "settings = (batch_size, optim_lr, rms_prop_momentum, num_training_steps,\\\n",
        "            imp_samples, D, encoder_hidden_dims, decoder_hidden_dims, latent_size,\\\n",
        "            maxout_window_size, non_linearity, optim_type, flow_type, num_flow_blocks, binary)"
      ],
      "metadata": {
        "id": "FehBGqVnwu8B"
      },
      "execution_count": null,
      "outputs": []
    },
    {
      "cell_type": "markdown",
      "source": [
        "____"
      ],
      "metadata": {
        "id": "WqaDsfBS-9S3"
      }
    },
    {
      "cell_type": "code",
      "source": [
        "train_loader, test_loader = CIFAR10(batch_size)"
      ],
      "metadata": {
        "id": "_SOaT2Zh-82N"
      },
      "execution_count": null,
      "outputs": []
    },
    {
      "cell_type": "code",
      "source": [
        "marg_lik, test_loss, train_losses, model = train_and_test(\"k0_CIFAR10\", train_loader, test_loader, settings, DEVICE, do_not_load=True)"
      ],
      "metadata": {
        "id": "lDk89Ak6TqBk"
      },
      "execution_count": null,
      "outputs": []
    },
    {
      "cell_type": "code",
      "source": [
        "from utils import load_model\n",
        "\n",
        "#model, optimizer, steps, train_losses, settings = load_model(\"k2_CIFAR10\", DEVICE)\n",
        "#batch_size, optim_lr, rms_prop_momentum, num_training_steps,\\\n",
        "#imp_samples, D, encoder_hidden_dims, decoder_hidden_dims, latent_size,\\\n",
        "#maxout_window_size, non_linearity, optim_type, flow_type, num_flow_blocks, binary = settings\n",
        "\n",
        "from train import test\n",
        "from eval import estimate_marginal_likelihood\n",
        "\n",
        "#test_loss = test(model, test_loader, binary, DEVICE)\n",
        "#print(f\"Final test loss: {test_loss:.2f}\")\n",
        "marg_log_lik = estimate_marginal_likelihood(20, test_loader, binary, model, DEVICE)\n",
        "print(f\"Marginal log likelihood: {marg_log_lik:.2f}\")"
      ],
      "metadata": {
        "id": "vZD57RMTcnC_"
      },
      "execution_count": null,
      "outputs": []
    },
    {
      "cell_type": "code",
      "source": [
        "# random model\n",
        "from models import NormalisingFlowModelVAE\n",
        "model2 = NormalisingFlowModelVAE(dim_input = D,\n",
        "                  e_hidden_dims = encoder_hidden_dims,\n",
        "                  d_hidden_dims = decoder_hidden_dims,\n",
        "                  flow_layers_num=num_flow_blocks,\n",
        "                  non_linearity=non_linearity,\n",
        "                  latent_size=latent_size,\n",
        "                  maxout_window_size = maxout_window_size,\n",
        "                  flow_type=flow_type,\n",
        "                  ).to(DEVICE)\n",
        "test_loss = test(model2, test_loader, binary, DEVICE)\n",
        "print(f\"Final test loss: {test_loss:.2f}\")"
      ],
      "metadata": {
        "id": "eiZncY6VDnks"
      },
      "execution_count": null,
      "outputs": []
    },
    {
      "cell_type": "code",
      "source": [
        ""
      ],
      "metadata": {
        "id": "xoxEo5Ylhbxz"
      },
      "execution_count": null,
      "outputs": []
    }
  ]
}